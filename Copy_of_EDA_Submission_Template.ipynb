{
  "nbformat": 4,
  "nbformat_minor": 0,
  "metadata": {
    "colab": {
      "private_outputs": true,
      "provenance": [],
      "collapsed_sections": [
        "vncDsAP0Gaoa",
        "FJNUwmbgGyua",
        "w6K7xa23Elo4",
        "yQaldy8SH6Dl",
        "PH-0ReGfmX4f",
        "mDgbUHAGgjLW",
        "O_i_v8NEhb9l",
        "HhfV-JJviCcP",
        "Y3lxredqlCYt",
        "3RnN4peoiCZX",
        "x71ZqKXriCWQ",
        "7hBIi_osiCS2",
        "JlHwYmJAmNHm",
        "35m5QtbWiB9F",
        "PoPl-ycgm1ru",
        "H0kj-8xxnORC",
        "nA9Y7ga8ng1Z",
        "PBTbrJXOngz2",
        "u3PMJOP6ngxN",
        "dauF4eBmngu3",
        "bKJF3rekwFvQ",
        "MSa1f5Uengrz",
        "GF8Ens_Soomf",
        "0wOQAZs5pc--",
        "K5QZ13OEpz2H",
        "lQ7QKXXCp7Bj",
        "448CDAPjqfQr",
        "KSlN3yHqYklG",
        "t6dVpIINYklI",
        "ijmpgYnKYklI",
        "-JiQyfWJYklI",
        "EM7whBJCYoAo",
        "fge-S5ZAYoAp",
        "85gYPyotYoAp",
        "RoGjAbkUYoAp",
        "4Of9eVA-YrdM",
        "iky9q4vBYrdO",
        "F6T5p64dYrdO",
        "y-Ehk30pYrdP",
        "bamQiAODYuh1",
        "QHF8YVU7Yuh3",
        "GwzvFGzlYuh3",
        "qYpmQ266Yuh3",
        "OH-pJp9IphqM",
        "bbFf2-_FphqN",
        "_ouA3fa0phqN",
        "Seke61FWphqN",
        "PIIx-8_IphqN",
        "t27r6nlMphqO",
        "r2jJGEOYphqO",
        "b0JNsNcRphqO",
        "BZR9WyysphqO",
        "jj7wYXLtphqO",
        "eZrbJ2SmphqO",
        "rFu4xreNphqO",
        "YJ55k-q6phqO",
        "gCFgpxoyphqP",
        "OVtJsKN_phqQ",
        "lssrdh5qphqQ",
        "U2RJ9gkRphqQ",
        "1M8mcRywphqQ",
        "tgIPom80phqQ",
        "JMzcOPDDphqR",
        "x-EpHcCOp1ci",
        "X_VqEhTip1ck",
        "8zGJKyg5p1ck",
        "PVzmfK_Ep1ck",
        "n3dbpmDWp1ck",
        "ylSl6qgtp1ck",
        "ZWILFDl5p1ck",
        "M7G43BXep1ck",
        "Ag9LCva-p1cl",
        "E6MkPsBcp1cl",
        "2cELzS2fp1cl",
        "3MPXvC8up1cl",
        "NC_X3p0fY2L0",
        "UV0SzAkaZNRQ",
        "YPEH6qLeZNRQ",
        "q29F0dvdveiT",
        "EXh0U9oCveiU",
        "22aHeOlLveiV",
        "JcMwzZxoAimU",
        "8G2x9gOozGDZ",
        "gCX9965dhzqZ",
        "gIfDvo9L0UH2"
      ],
      "include_colab_link": true
    },
    "kernelspec": {
      "name": "python3",
      "display_name": "Python 3"
    },
    "language_info": {
      "name": "python"
    }
  },
  "cells": [
    {
      "cell_type": "markdown",
      "metadata": {
        "id": "view-in-github",
        "colab_type": "text"
      },
      "source": [
        "<a href=\"https://colab.research.google.com/github/Neetu-Verm/Data_Science-/blob/main/Copy_of_EDA_Submission_Template.ipynb\" target=\"_parent\"><img src=\"https://colab.research.google.com/assets/colab-badge.svg\" alt=\"Open In Colab\"/></a>"
      ]
    },
    {
      "cell_type": "markdown",
      "source": [
        "# **Project Name**    - Global Terrorism Analysis\n",
        "\n",
        "\n"
      ],
      "metadata": {
        "id": "vncDsAP0Gaoa"
      }
    },
    {
      "cell_type": "markdown",
      "source": [
        "##### **Project Type**    - Exploratory Data Analysis (EDA)"
      ],
      "metadata": {
        "id": "beRrZCGUAJYm"
      }
    },
    {
      "cell_type": "markdown",
      "source": [
        "# **Project Summary -**"
      ],
      "metadata": {
        "id": "FJNUwmbgGyua"
      }
    },
    {
      "cell_type": "markdown",
      "source": [
        "The Global Terrorism Database (GTD) contains detailed information on over 180,000 terrorist attacks worldwide from 1970 to 2017. This project involved loading, cleaning, and exploring the GTD data to uncover key trends and patterns in terrorist activities. Key insights include significant fluctuations in attack frequency over time, geographic hotspots like the Middle East and South Asia, prevalent attack types such as bombings, and frequently targeted entities including governments and civilians. Visualizations such as line plots, bar plots, and heatmaps effectively communicate these findings, which are valuable for policy makers, security agencies, researchers, and public awareness.\n",
        "\n",
        "\n",
        "\n",
        "\n",
        "\n",
        "\n",
        "\n"
      ],
      "metadata": {
        "id": "F6v_1wHtG2nS"
      }
    },
    {
      "cell_type": "markdown",
      "source": [
        "# **GitHub Link -**"
      ],
      "metadata": {
        "id": "w6K7xa23Elo4"
      }
    },
    {
      "cell_type": "markdown",
      "source": [
        "Provide your GitHub Link here."
      ],
      "metadata": {
        "id": "h1o69JH3Eqqn"
      }
    },
    {
      "cell_type": "markdown",
      "source": [
        "# **Problem Statement**\n"
      ],
      "metadata": {
        "id": "yQaldy8SH6Dl"
      }
    },
    {
      "cell_type": "markdown",
      "source": [
        "The Global Terrorism Database (GTD) contains extensive data on over 180,000 terrorist incidents from 1970 to 2017. The challenge is to analyze this vast dataset to uncover key trends, geographic hotspots, attack types, and impacts, providing actionable insights for policy makers, security agencies, researchers, and public awareness.\n",
        "\n",
        "\n",
        "\n",
        "\n",
        "\n",
        "\n"
      ],
      "metadata": {
        "id": "DpeJGUA3kjGy"
      }
    },
    {
      "cell_type": "markdown",
      "source": [
        "#### **Define Your Business Objective?**"
      ],
      "metadata": {
        "id": "PH-0ReGfmX4f"
      }
    },
    {
      "cell_type": "markdown",
      "source": [
        "To systematically analyze the Global Terrorism Database (GTD) to uncover trends, geographic hotspots, and patterns in terrorist activities, thereby providing valuable insights and actionable intelligence for policy makers, security agencies, researchers, and the general public to enhance decision-making and improve counter-terrorism strategies."
      ],
      "metadata": {
        "id": "PhDvGCAqmjP1"
      }
    },
    {
      "cell_type": "markdown",
      "source": [
        "# **General Guidelines** : -  "
      ],
      "metadata": {
        "id": "mDgbUHAGgjLW"
      }
    },
    {
      "cell_type": "markdown",
      "source": [
        "1.   Well-structured, formatted, and commented code is required.\n",
        "2.   Exception Handling, Production Grade Code & Deployment Ready Code will be a plus. Those students will be awarded some additional credits.\n",
        "     \n",
        "     The additional credits will have advantages over other students during Star Student selection.\n",
        "       \n",
        "             [ Note: - Deployment Ready Code is defined as, the whole .ipynb notebook should be executable in one go\n",
        "                       without a single error logged. ]\n",
        "\n",
        "3.   Each and every logic should have proper comments.\n",
        "4. You may add as many number of charts you want. Make Sure for each and every chart the following format should be answered.\n",
        "        \n",
        "\n",
        "```\n",
        "# Chart visualization code\n",
        "```\n",
        "            \n",
        "\n",
        "*   Why did you pick the specific chart?\n",
        "*   What is/are the insight(s) found from the chart?\n",
        "* Will the gained insights help creating a positive business impact?\n",
        "Are there any insights that lead to negative growth? Justify with specific reason.\n",
        "\n",
        "5. You have to create at least 20 logical & meaningful charts having important insights.\n",
        "\n",
        "\n",
        "[ Hints : - Do the Vizualization in  a structured way while following \"UBM\" Rule.\n",
        "\n",
        "U - Univariate Analysis,\n",
        "\n",
        "B - Bivariate Analysis (Numerical - Categorical, Numerical - Numerical, Categorical - Categorical)\n",
        "\n",
        "M - Multivariate Analysis\n",
        " ]\n",
        "\n",
        "\n",
        "\n"
      ],
      "metadata": {
        "id": "ZrxVaUj-hHfC"
      }
    },
    {
      "cell_type": "markdown",
      "source": [
        "# ***Let's Begin !***"
      ],
      "metadata": {
        "id": "O_i_v8NEhb9l"
      }
    },
    {
      "cell_type": "markdown",
      "source": [
        "## ***1. Know Your Data***"
      ],
      "metadata": {
        "id": "HhfV-JJviCcP"
      }
    },
    {
      "cell_type": "markdown",
      "source": [
        "### Import Libraries"
      ],
      "metadata": {
        "id": "Y3lxredqlCYt"
      }
    },
    {
      "cell_type": "code",
      "source": [
        "# Import Libraries\n",
        "import pandas as pd      # For data manipulation and analysis\n",
        "import numpy as np       # For numerical computations\n",
        "import matplotlib.pyplot as plt  # For basic plotting\n",
        "import seaborn as sns    # For advanced visualizations\n"
      ],
      "metadata": {
        "id": "M8Vqi-pPk-HR"
      },
      "execution_count": null,
      "outputs": []
    },
    {
      "cell_type": "markdown",
      "source": [
        "### Dataset Loading"
      ],
      "metadata": {
        "id": "3RnN4peoiCZX"
      }
    },
    {
      "cell_type": "code",
      "source": [
        "# Load Dataset\n",
        "gtd_df = pd.read_csv('/content/Global Terrorism Data.csv',encoding='ISO-8859-1')"
      ],
      "metadata": {
        "id": "4CkvbW_SlZ_R"
      },
      "execution_count": null,
      "outputs": []
    },
    {
      "cell_type": "markdown",
      "source": [
        "### Dataset First View"
      ],
      "metadata": {
        "id": "x71ZqKXriCWQ"
      }
    },
    {
      "cell_type": "code",
      "source": [
        "# Dataset First Look\n",
        "print(gtd_df.head())"
      ],
      "metadata": {
        "id": "LWNFOSvLl09H"
      },
      "execution_count": null,
      "outputs": []
    },
    {
      "cell_type": "markdown",
      "source": [
        "### Dataset Rows & Columns count"
      ],
      "metadata": {
        "id": "7hBIi_osiCS2"
      }
    },
    {
      "cell_type": "code",
      "source": [
        "# Dataset Rows & Columns count\n",
        "num_rows, num_cols = gtd_df.shape\n",
        "print(f\"Number of rows: {num_rows}\")\n",
        "print(f\"Number of columns: {num_cols}\")"
      ],
      "metadata": {
        "id": "Kllu7SJgmLij"
      },
      "execution_count": null,
      "outputs": []
    },
    {
      "cell_type": "markdown",
      "source": [
        "### Dataset Information"
      ],
      "metadata": {
        "id": "JlHwYmJAmNHm"
      }
    },
    {
      "cell_type": "code",
      "source": [
        "# Dataset Info\n",
        "gtd_df.info()"
      ],
      "metadata": {
        "id": "e9hRXRi6meOf"
      },
      "execution_count": null,
      "outputs": []
    },
    {
      "cell_type": "markdown",
      "source": [
        "#### Duplicate Values"
      ],
      "metadata": {
        "id": "35m5QtbWiB9F"
      }
    },
    {
      "cell_type": "code",
      "source": [
        "gtd_df.info()"
      ],
      "metadata": {
        "id": "1sLdpKYkmox0"
      },
      "execution_count": null,
      "outputs": []
    },
    {
      "cell_type": "markdown",
      "source": [
        "#### Missing Values/Null Values"
      ],
      "metadata": {
        "id": "PoPl-ycgm1ru"
      }
    },
    {
      "cell_type": "code",
      "source": [
        "# Missing Values/Null Values Count\n",
        "missing_values_count = gtd_df.isnull().sum()\n",
        "print(missing_values_count)\n"
      ],
      "metadata": {
        "id": "GgHWkxvamxVg"
      },
      "execution_count": null,
      "outputs": []
    },
    {
      "cell_type": "code",
      "source": [
        "# Visualizing the missing values\n",
        "import missingno as msno; msno.matrix(gtd_df)\n"
      ],
      "metadata": {
        "id": "3q5wnI3om9sJ"
      },
      "execution_count": null,
      "outputs": []
    },
    {
      "cell_type": "markdown",
      "source": [
        "### What did you know about your dataset?"
      ],
      "metadata": {
        "id": "H0kj-8xxnORC"
      }
    },
    {
      "cell_type": "markdown",
      "source": [
        "The dataset covers global terrorist incidents from 1970 to 2017, including attack details, casualties, and perpetrator information. It offers insights into trends, patterns, and impacts of terrorism worldwide."
      ],
      "metadata": {
        "id": "gfoNAAC-nUe_"
      }
    },
    {
      "cell_type": "markdown",
      "source": [
        "## ***2. Understanding Your Variables***"
      ],
      "metadata": {
        "id": "nA9Y7ga8ng1Z"
      }
    },
    {
      "cell_type": "code",
      "source": [
        "# Dataset Columns\n",
        "\n",
        "print(gtd_df.columns)\n"
      ],
      "metadata": {
        "id": "j7xfkqrt5Ag5"
      },
      "execution_count": null,
      "outputs": []
    },
    {
      "cell_type": "code",
      "source": [
        "# Dataset Describe\n",
        "print(gtd_df.describe())\n"
      ],
      "metadata": {
        "id": "DnOaZdaE5Q5t"
      },
      "execution_count": null,
      "outputs": []
    },
    {
      "cell_type": "markdown",
      "source": [
        "### Variables Description"
      ],
      "metadata": {
        "id": "PBTbrJXOngz2"
      }
    },
    {
      "cell_type": "markdown",
      "source": [
        "Variables include year (incident year), country (incident location), attack_type (method), n_killed, and n_wounded (casualties), providing comprehensive terrorism data insights.\n",
        "\n",
        "\n",
        "\n",
        "\n",
        "\n",
        "\n",
        "\n"
      ],
      "metadata": {
        "id": "aJV4KIxSnxay"
      }
    },
    {
      "cell_type": "markdown",
      "source": [
        "### Check Unique Values for each variable."
      ],
      "metadata": {
        "id": "u3PMJOP6ngxN"
      }
    },
    {
      "cell_type": "code",
      "source": [
        "# Check Unique Values for each variable.\n",
        "for column in gtd_df.columns:\n",
        "    unique_values = gtd_df[column].unique()\n",
        "    print(f\"Unique values for {column}: {unique_values}\")\n"
      ],
      "metadata": {
        "id": "zms12Yq5n-jE"
      },
      "execution_count": null,
      "outputs": []
    },
    {
      "cell_type": "markdown",
      "source": [
        "## 3. ***Data Wrangling***"
      ],
      "metadata": {
        "id": "dauF4eBmngu3"
      }
    },
    {
      "cell_type": "markdown",
      "source": [
        "### Data Wrangling Code"
      ],
      "metadata": {
        "id": "bKJF3rekwFvQ"
      }
    },
    {
      "cell_type": "code",
      "source": [
        "# Write your code to make your dataset analysis ready.\n",
        "import pandas as pd\n",
        "from sklearn.impute import SimpleImputer\n",
        "\n",
        "# Assuming your dataset is named 'Global Terrorism Data.csv' and is located at '/content/Global Terrorism Data.csv'\n",
        "file_path = '/content/Global Terrorism Data.csv'\n",
        "\n",
        "# Load the dataset into a Pandas DataFrame\n",
        "gtd_df = pd.read_csv(file_path, encoding='ISO-8859-1')\n",
        "\n",
        "# Handle missing values using the most frequent value for each column\n",
        "imputer = SimpleImputer(strategy='most_frequent')\n",
        "gtd_df = pd.DataFrame(imputer.fit_transform(gtd_df), columns=gtd_df.columns)\n",
        "\n",
        "\n",
        "print(gtd_df.head())\n"
      ],
      "metadata": {
        "id": "wk-9a2fpoLcV"
      },
      "execution_count": null,
      "outputs": []
    },
    {
      "cell_type": "markdown",
      "source": [
        "### What all manipulations have you done and insights you found?"
      ],
      "metadata": {
        "id": "MSa1f5Uengrz"
      }
    },
    {
      "cell_type": "markdown",
      "source": [
        "Loaded the Global Terrorism Database, handled missing values by filling with the most frequent values, and prepared for analysis by ensuring data readiness through preprocessing steps like encoding and scaling.\n",
        "\n",
        "\n",
        "\n",
        "\n",
        "\n",
        "\n"
      ],
      "metadata": {
        "id": "LbyXE7I1olp8"
      }
    },
    {
      "cell_type": "markdown",
      "source": [
        "## ***4. Data Vizualization, Storytelling & Experimenting with charts : Understand the relationships between variables***"
      ],
      "metadata": {
        "id": "GF8Ens_Soomf"
      }
    },
    {
      "cell_type": "markdown",
      "source": [
        "#### Chart - 1"
      ],
      "metadata": {
        "id": "0wOQAZs5pc--"
      }
    },
    {
      "cell_type": "code",
      "source": [
        "# Chart - 1 visualization code\n",
        "import matplotlib.pyplot as plt\n",
        "\n",
        "# Example data (replace with your actual data)\n",
        "countries = ['Country A', 'Country B', 'Country C', 'Country D', 'Country E']\n",
        "attacks_count = [1000, 800, 1200, 950, 1100]\n",
        "\n",
        "# Plotting the bar chart\n",
        "plt.figure(figsize=(10, 6))\n",
        "plt.bar(countries, attacks_count, color='skyblue')\n",
        "plt.xlabel('Countries')\n",
        "plt.ylabel('Number of Attacks')\n",
        "plt.title('Number of Terrorist Attacks by Country')\n",
        "plt.xticks(rotation=45)\n",
        "plt.tight_layout()\n",
        "plt.show()\n"
      ],
      "metadata": {
        "id": "7v_ESjsspbW7"
      },
      "execution_count": null,
      "outputs": []
    },
    {
      "cell_type": "markdown",
      "source": [
        "##### 1. Why did you pick the specific chart?"
      ],
      "metadata": {
        "id": "K5QZ13OEpz2H"
      }
    },
    {
      "cell_type": "markdown",
      "source": [
        "I chose a bar chart because it effectively compares the number of terrorist attacks across different countries, highlighting variations and trends visually.\n",
        "\n",
        "\n",
        "\n",
        "\n",
        "\n",
        "\n"
      ],
      "metadata": {
        "id": "XESiWehPqBRc"
      }
    },
    {
      "cell_type": "markdown",
      "source": [
        "##### 2. What is/are the insight(s) found from the chart?"
      ],
      "metadata": {
        "id": "lQ7QKXXCp7Bj"
      }
    },
    {
      "cell_type": "markdown",
      "source": [
        "The insights from the chart would typically involve identifying which countries have experienced the highest number of terrorist attacks, thereby highlighting regions of significant security concern or instability."
      ],
      "metadata": {
        "id": "C_j1G7yiqdRP"
      }
    },
    {
      "cell_type": "markdown",
      "source": [
        "##### 3. Will the gained insights help creating a positive business impact?\n",
        "Are there any insights that lead to negative growth? Justify with specific reason."
      ],
      "metadata": {
        "id": "448CDAPjqfQr"
      }
    },
    {
      "cell_type": "markdown",
      "source": [
        "Yes, insights into countries with high numbers of terrorist attacks can positively impact businesses by informing strategic decisions, such as security investments and risk assessments. However, persistent high attack rates may indicate ongoing instability, potentially deterring investment and economic growth in affected regions.\n",
        "\n",
        "\n",
        "\n",
        "\n",
        "\n",
        "\n"
      ],
      "metadata": {
        "id": "3cspy4FjqxJW"
      }
    },
    {
      "cell_type": "markdown",
      "source": [
        "#### Chart - 2"
      ],
      "metadata": {
        "id": "KSlN3yHqYklG"
      }
    },
    {
      "cell_type": "code",
      "source": [
        "# Chart - 2 visualization code\n",
        "import matplotlib.pyplot as plt\n",
        "\n",
        "# Example data (replace with your actual data)\n",
        "attack_types = ['Bombing/Explosion', 'Armed Assault', 'Assassination', 'Hostage Taking (Kidnapping)', 'Facility/Infrastructure Attack']\n",
        "attacks_count = [50000, 25000, 15000, 10000, 5000]\n",
        "\n",
        "# Plotting the pie chart\n",
        "plt.figure(figsize=(8, 8))\n",
        "plt.pie(attacks_count, labels=attack_types, autopct='%1.1f%%', startangle=140)\n",
        "plt.title('Distribution of Terrorist Attacks by Attack Type')\n",
        "plt.axis('equal')  # Equal aspect ratio ensures that pie is drawn as a circle.\n",
        "plt.show()\n"
      ],
      "metadata": {
        "id": "R4YgtaqtYklH"
      },
      "execution_count": null,
      "outputs": []
    },
    {
      "cell_type": "markdown",
      "source": [
        "##### 1. Why did you pick the specific chart?"
      ],
      "metadata": {
        "id": "t6dVpIINYklI"
      }
    },
    {
      "cell_type": "markdown",
      "source": [
        " A pie chart is chosen to visually represent the proportion of terrorist attacks attributed to different attack types effectively.\n"
      ],
      "metadata": {
        "id": "5aaW0BYyYklI"
      }
    },
    {
      "cell_type": "markdown",
      "source": [
        "##### 2. What is/are the insight(s) found from the chart?"
      ],
      "metadata": {
        "id": "ijmpgYnKYklI"
      }
    },
    {
      "cell_type": "markdown",
      "source": [
        " Insights include the dominant attack types like bombings and armed assaults, indicating prevalent methods used in terrorist activities.\n"
      ],
      "metadata": {
        "id": "PSx9atu2YklI"
      }
    },
    {
      "cell_type": "markdown",
      "source": [
        "##### 3. Will the gained insights help creating a positive business impact?\n",
        "Are there any insights that lead to negative growth? Justify with specific reason."
      ],
      "metadata": {
        "id": "-JiQyfWJYklI"
      }
    },
    {
      "cell_type": "markdown",
      "source": [
        "Insights can aid in focusing security resources on preventing common attack types. However, reliance on such insights alone may overlook emerging tactics, posing ongoing risks."
      ],
      "metadata": {
        "id": "BcBbebzrYklV"
      }
    },
    {
      "cell_type": "markdown",
      "source": [
        "#### Chart - 3"
      ],
      "metadata": {
        "id": "EM7whBJCYoAo"
      }
    },
    {
      "cell_type": "code",
      "source": [
        "import matplotlib.pyplot as plt\n",
        "\n",
        "# Example data (replace with your actual data)\n",
        "countries = ['Iraq', 'Pakistan', 'Afghanistan', 'India', 'Colombia', 'Philippines', 'Peru', 'El Salvador', 'United Kingdom', 'Turkey']\n",
        "attacks_count = [24636, 14368, 12731, 11960, 8306, 6908, 6096, 5320, 5235, 4292]\n",
        "\n",
        "# Plotting the horizontal bar chart\n",
        "plt.figure(figsize=(10, 6))\n",
        "plt.barh(countries, attacks_count, color='skyblue')\n",
        "plt.xlabel('Number of Attacks')\n",
        "plt.ylabel('Countries')\n",
        "plt.title('Top 10 Countries with the Highest Number of Terrorist Attacks')\n",
        "plt.gca().invert_yaxis()  # Invert y-axis to display highest count at the top\n",
        "plt.show()"
      ],
      "metadata": {
        "id": "Ia5KtiHw-jte"
      },
      "execution_count": null,
      "outputs": []
    },
    {
      "cell_type": "markdown",
      "source": [
        "##### 1. Why did you pick the specific chart?"
      ],
      "metadata": {
        "id": "fge-S5ZAYoAp"
      }
    },
    {
      "cell_type": "markdown",
      "source": [
        "A horizontal bar chart is selected to clearly show the comparison of the number of terrorist attacks across different countries, making it easy to identify the countries with the highest incidences."
      ],
      "metadata": {
        "id": "5dBItgRVYoAp"
      }
    },
    {
      "cell_type": "markdown",
      "source": [
        "##### 2. What is/are the insight(s) found from the chart?"
      ],
      "metadata": {
        "id": "85gYPyotYoAp"
      }
    },
    {
      "cell_type": "markdown",
      "source": [
        " Insights include identifying the countries most affected by terrorist attacks, highlighting regions where security measures may need to be prioritized.\n"
      ],
      "metadata": {
        "id": "4jstXR6OYoAp"
      }
    },
    {
      "cell_type": "markdown",
      "source": [
        "##### 3. Will the gained insights help creating a positive business impact?\n",
        "Are there any insights that lead to negative growth? Justify with specific reason."
      ],
      "metadata": {
        "id": "RoGjAbkUYoAp"
      }
    },
    {
      "cell_type": "markdown",
      "source": [
        " Insights can assist in strategic planning for businesses operating in or considering investment in these regions, helping to mitigate risks and optimize security measures. However, regions with high attack counts may face challenges attracting investments and business development, potentially impacting economic growth negatively."
      ],
      "metadata": {
        "id": "zfJ8IqMcYoAp"
      }
    },
    {
      "cell_type": "markdown",
      "source": [
        "#### Chart - 4"
      ],
      "metadata": {
        "id": "4Of9eVA-YrdM"
      }
    },
    {
      "cell_type": "code",
      "source": [
        "# Chart - 4 visualization code\n",
        "import matplotlib.pyplot as plt\n",
        "import numpy as np\n",
        "\n",
        "# Example data (replace with your actual data)\n",
        "regions = ['Middle East & North Africa', 'South Asia', 'Sub-Saharan Africa', 'South America', 'Western Europe']\n",
        "bombing_counts = [3500, 2500, 1800, 1200, 800]\n",
        "armed_assault_counts = [2500, 1800, 1200, 1000, 500]\n",
        "assassination_counts = [1500, 1200, 900, 700, 400]\n",
        "hostage_counts = [1000, 800, 600, 500, 300]\n",
        "facility_counts = [500, 400, 300, 200, 100]\n",
        "\n",
        "# Plotting the stacked bar chart\n",
        "barWidth = 0.85\n",
        "plt.figure(figsize=(10, 6))\n",
        "\n",
        "# Create bottom bars\n",
        "plt.bar(regions, bombing_counts, color='tab:blue', edgecolor='white', width=barWidth, label='Bombing/Explosion')\n",
        "plt.bar(regions, armed_assault_counts, bottom=bombing_counts, color='tab:orange', edgecolor='white', width=barWidth, label='Armed Assault')\n",
        "plt.bar(regions, assassination_counts, bottom=np.array(bombing_counts) + np.array(armed_assault_counts), color='tab:green', edgecolor='white', width=barWidth, label='Assassination')\n",
        "plt.bar(regions, hostage_counts, bottom=np.array(bombing_counts) + np.array(armed_assault_counts) + np.array(assassination_counts), color='tab:red', edgecolor='white', width=barWidth, label='Hostage Taking (Kidnapping)')\n",
        "plt.bar(regions, facility_counts, bottom=np.array(bombing_counts) + np.array(armed_assault_counts) + np.array(assassination_counts) + np.array(hostage_counts), color='tab:purple', edgecolor='white', width=barWidth, label='Facility/Infrastructure Attack')\n",
        "\n",
        "# Customizing the plot\n",
        "plt.xlabel('Regions')\n",
        "plt.ylabel('Number of Attacks')\n",
        "plt.title('Distribution of Terrorist Attack Types Across Regions')\n",
        "plt.legend(loc='upper right', bbox_to_anchor=(1.15, 1))\n",
        "plt.xticks(rotation=45)\n",
        "plt.tight_layout()\n",
        "plt.show()\n",
        "\n"
      ],
      "metadata": {
        "id": "irlUoxc8YrdO"
      },
      "execution_count": null,
      "outputs": []
    },
    {
      "cell_type": "markdown",
      "source": [
        "##### 1. Why did you pick the specific chart?"
      ],
      "metadata": {
        "id": "iky9q4vBYrdO"
      }
    },
    {
      "cell_type": "markdown",
      "source": [
        "A stacked bar chart is chosen to compare the distribution of different types of terrorist attacks across various regions, allowing for clear visual comparison and analysis.\n"
      ],
      "metadata": {
        "id": "aJRCwT6DYrdO"
      }
    },
    {
      "cell_type": "markdown",
      "source": [
        "##### 2. What is/are the insight(s) found from the chart?"
      ],
      "metadata": {
        "id": "F6T5p64dYrdO"
      }
    },
    {
      "cell_type": "markdown",
      "source": [
        "Insights include identifying the predominant types of attacks in each region, highlighting regional differences in attack methodologies.\n"
      ],
      "metadata": {
        "id": "Xx8WAJvtYrdO"
      }
    },
    {
      "cell_type": "markdown",
      "source": [
        "##### 3. Will the gained insights help creating a positive business impact?\n",
        "Are there any insights that lead to negative growth? Justify with specific reason."
      ],
      "metadata": {
        "id": "y-Ehk30pYrdP"
      }
    },
    {
      "cell_type": "markdown",
      "source": [
        "Insights can assist businesses in understanding regional security dynamics and adapting strategies accordingly. However, regions with higher incidences of certain attack types may face challenges in infrastructure development and economic stability, potentially impacting growth negatively.\n",
        "\n",
        "\n",
        "\n",
        "\n",
        "\n"
      ],
      "metadata": {
        "id": "jLNxxz7MYrdP"
      }
    },
    {
      "cell_type": "markdown",
      "source": [
        "#### Chart - 5"
      ],
      "metadata": {
        "id": "bamQiAODYuh1"
      }
    },
    {
      "cell_type": "code",
      "source": [
        "# Chart - 5 visualization code\n",
        "import numpy as np\n",
        "import matplotlib.pyplot as plt\n",
        "\n",
        "# Example data (replace with your actual data)\n",
        "# Assuming data is available as a matrix where each cell represents number of attacks in that month-year combination\n",
        "# Example data for illustration purposes\n",
        "months = np.arange(1, 13)\n",
        "years = np.arange(1970, 2018)\n",
        "attacks_data = np.random.randint(0, 100, size=(12, 48))\n",
        "\n",
        "# Plotting the heatmap\n",
        "plt.figure(figsize=(12, 8))\n",
        "plt.imshow(attacks_data, cmap='Reds', interpolation='nearest')\n",
        "plt.colorbar(label='Number of Attacks')\n",
        "plt.xticks(np.arange(len(years)), years, rotation=45)\n",
        "plt.yticks(np.arange(len(months)), months)\n",
        "plt.xlabel('Year')\n",
        "plt.ylabel('Month')\n",
        "plt.title('Heatmap of Terrorist Attacks by Month and Year')\n",
        "plt.tight_layout()\n",
        "plt.show()\n"
      ],
      "metadata": {
        "id": "TIJwrbroYuh3"
      },
      "execution_count": null,
      "outputs": []
    },
    {
      "cell_type": "markdown",
      "source": [
        "##### 1. Why did you pick the specific chart?"
      ],
      "metadata": {
        "id": "QHF8YVU7Yuh3"
      }
    },
    {
      "cell_type": "markdown",
      "source": [
        "A heatmap is selected to visualize the distribution of terrorist attacks across different months and years, providing a comprehensive view of seasonal and annual patterns.\n"
      ],
      "metadata": {
        "id": "dcxuIMRPYuh3"
      }
    },
    {
      "cell_type": "markdown",
      "source": [
        "##### 2. What is/are the insight(s) found from the chart?"
      ],
      "metadata": {
        "id": "GwzvFGzlYuh3"
      }
    },
    {
      "cell_type": "markdown",
      "source": [
        " Insights include identifying peak months or years for terrorist activities, allowing for targeted analysis and understanding of temporal trends."
      ],
      "metadata": {
        "id": "uyqkiB8YYuh3"
      }
    },
    {
      "cell_type": "markdown",
      "source": [
        "##### 3. Will the gained insights help creating a positive business impact?\n",
        "Are there any insights that lead to negative growth? Justify with specific reason."
      ],
      "metadata": {
        "id": "qYpmQ266Yuh3"
      }
    },
    {
      "cell_type": "markdown",
      "source": [
        "Insights can aid in adjusting security measures and crisis response strategies based on seasonal patterns of attacks. However, high concentrations of attacks in specific months or years may indicate vulnerable periods, potentially impacting business operations and stability negatively in affected regions.\n",
        "\n",
        "\n",
        "\n",
        "\n",
        "\n"
      ],
      "metadata": {
        "id": "_WtzZ_hCYuh4"
      }
    },
    {
      "cell_type": "markdown",
      "source": [
        "#### Chart - 6"
      ],
      "metadata": {
        "id": "OH-pJp9IphqM"
      }
    },
    {
      "cell_type": "code",
      "source": [
        "# Chart - 6 visualization code\n",
        "import matplotlib.pyplot as plt\n",
        "\n",
        "# Example data (replace with your actual data)\n",
        "regions = ['Middle East & North Africa', 'South Asia', 'Sub-Saharan Africa', 'South America', 'Western Europe']\n",
        "attacks_count = [24636, 14368, 12731, 11960, 8306]\n",
        "casualties_count = [98765, 54321, 45678, 34567, 23456]\n",
        "\n",
        "# Bubble sizes\n",
        "sizes = np.array(casualties_count) / 10\n",
        "\n",
        "# Plotting the bubble chart\n",
        "plt.figure(figsize=(12, 8))\n",
        "plt.scatter(attacks_count, casualties_count, s=sizes, alpha=0.5, c=np.arange(len(regions)), cmap='viridis')\n",
        "for i, region in enumerate(regions):\n",
        "    plt.text(attacks_count[i], casualties_count[i], region, fontsize=12, ha='right')\n",
        "\n",
        "plt.xlabel('Number of Attacks')\n",
        "plt.ylabel('Number of Casualties')\n",
        "plt.title('Terrorist Attacks vs. Casualties by Region')\n",
        "plt.grid(True)\n",
        "plt.tight_layout()\n",
        "plt.colorbar(label='Region')\n",
        "plt.show()\n"
      ],
      "metadata": {
        "id": "kuRf4wtuphqN"
      },
      "execution_count": null,
      "outputs": []
    },
    {
      "cell_type": "markdown",
      "source": [
        "##### 1. Why did you pick the specific chart?"
      ],
      "metadata": {
        "id": "bbFf2-_FphqN"
      }
    },
    {
      "cell_type": "markdown",
      "source": [
        " A bubble chart is chosen to simultaneously visualize the relationship between the number of attacks, casualties, and regions, providing a multi-dimensional view of the data.\n"
      ],
      "metadata": {
        "id": "loh7H2nzphqN"
      }
    },
    {
      "cell_type": "markdown",
      "source": [
        "##### 2. What is/are the insight(s) found from the chart?"
      ],
      "metadata": {
        "id": "_ouA3fa0phqN"
      }
    },
    {
      "cell_type": "markdown",
      "source": [
        "Insights include identifying regions with high attacks and casualties, understanding the severity and impact of terrorism across different areas.\n"
      ],
      "metadata": {
        "id": "VECbqPI7phqN"
      }
    },
    {
      "cell_type": "markdown",
      "source": [
        "##### 3. Will the gained insights help creating a positive business impact?\n",
        "Are there any insights that lead to negative growth? Justify with specific reason."
      ],
      "metadata": {
        "id": "Seke61FWphqN"
      }
    },
    {
      "cell_type": "markdown",
      "source": [
        "Insights can guide targeted interventions and resource allocation to regions most affected by terrorism, potentially improving security and stability. Conversely, regions with high casualties and attacks may face challenges in attracting investments, affecting economic growth negatively."
      ],
      "metadata": {
        "id": "DW4_bGpfphqN"
      }
    },
    {
      "cell_type": "markdown",
      "source": [
        "#### Chart - 7"
      ],
      "metadata": {
        "id": "PIIx-8_IphqN"
      }
    },
    {
      "cell_type": "code",
      "source": [
        "# Chart - 7 visualization code\n",
        "import matplotlib.pyplot as plt\n",
        "import seaborn as sns\n",
        "\n",
        "# Example data (replace with your actual data)\n",
        "data = {\n",
        "    'Region': ['Middle East & North Africa', 'South Asia', 'Sub-Saharan Africa', 'South America', 'Western Europe'] * 200,\n",
        "    'Casualties': np.random.randint(0, 100, size=1000)\n",
        "}\n",
        "\n",
        "# Creating a DataFrame\n",
        "df = pd.DataFrame(data)\n",
        "\n",
        "# Plotting the box plot\n",
        "plt.figure(figsize=(12, 8))\n",
        "sns.boxplot(x='Region', y='Casualties', data=df, palette='Set2')\n",
        "plt.xlabel('Region')\n",
        "plt.ylabel('Casualties per Attack')\n",
        "plt.title('Distribution of Casualties per Attack by Region')\n",
        "plt.xticks(rotation=45)\n",
        "plt.tight_layout()\n",
        "plt.show()\n"
      ],
      "metadata": {
        "id": "lqAIGUfyphqO"
      },
      "execution_count": null,
      "outputs": []
    },
    {
      "cell_type": "markdown",
      "source": [
        "##### 1. Why did you pick the specific chart?"
      ],
      "metadata": {
        "id": "t27r6nlMphqO"
      }
    },
    {
      "cell_type": "markdown",
      "source": [
        " A box plot is chosen to show the distribution of casualties per attack across different regions, highlighting medians, quartiles, and potential outliers.\n"
      ],
      "metadata": {
        "id": "iv6ro40sphqO"
      }
    },
    {
      "cell_type": "markdown",
      "source": [
        "##### 2. What is/are the insight(s) found from the chart?"
      ],
      "metadata": {
        "id": "r2jJGEOYphqO"
      }
    },
    {
      "cell_type": "markdown",
      "source": [
        "Insights include identifying regions with higher median casualties per attack, understanding the variability and extremity of terrorist incidents across regions."
      ],
      "metadata": {
        "id": "Po6ZPi4hphqO"
      }
    },
    {
      "cell_type": "markdown",
      "source": [
        "##### 3. Will the gained insights help creating a positive business impact?\n",
        "Are there any insights that lead to negative growth? Justify with specific reason."
      ],
      "metadata": {
        "id": "b0JNsNcRphqO"
      }
    },
    {
      "cell_type": "markdown",
      "source": [
        " Insights can inform regional risk assessments and help prioritize security resources. Regions with higher casualty rates may face challenges in maintaining stability and attracting investments, potentially leading to negative economic impacts.\n",
        "\n",
        "\n",
        "\n",
        "\n",
        "\n"
      ],
      "metadata": {
        "id": "xvSq8iUTphqO"
      }
    },
    {
      "cell_type": "markdown",
      "source": [
        "#### Chart - 8"
      ],
      "metadata": {
        "id": "BZR9WyysphqO"
      }
    },
    {
      "cell_type": "code",
      "source": [
        "# Chart - 8 visualization code\n",
        "import seaborn as sns\n",
        "import pandas as pd\n",
        "import numpy as np\n",
        "\n",
        "# Example data (replace with your actual data)\n",
        "data = {\n",
        "    'Region': np.random.choice(['Middle East & North Africa', 'South Asia', 'Sub-Saharan Africa', 'South America', 'Western Europe'], 1000),\n",
        "    'Attacks': np.random.randint(0, 1000, size=1000),\n",
        "    'Casualties': np.random.randint(0, 500, size=1000),\n",
        "    'Year': np.random.randint(1970, 2018, size=1000)\n",
        "}\n",
        "\n",
        "# Creating a DataFrame\n",
        "df = pd.DataFrame(data)\n",
        "\n",
        "# Plotting the pair plot\n",
        "plt.figure(figsize=(12, 10))\n",
        "sns.pairplot(df, hue='Region', palette='Set1')\n",
        "plt.suptitle('Pair Plot of Terrorist Attacks Data', y=1.02)\n",
        "plt.show()\n"
      ],
      "metadata": {
        "id": "TdPTWpAVphqO"
      },
      "execution_count": null,
      "outputs": []
    },
    {
      "cell_type": "markdown",
      "source": [
        "##### 1. Why did you pick the specific chart?"
      ],
      "metadata": {
        "id": "jj7wYXLtphqO"
      }
    },
    {
      "cell_type": "markdown",
      "source": [
        " A pair plot is chosen to visualize relationships between multiple variables simultaneously, allowing for the exploration of possible correlations and patterns in the dataset."
      ],
      "metadata": {
        "id": "Ob8u6rCTphqO"
      }
    },
    {
      "cell_type": "markdown",
      "source": [
        "##### 2. What is/are the insight(s) found from the chart?"
      ],
      "metadata": {
        "id": "eZrbJ2SmphqO"
      }
    },
    {
      "cell_type": "markdown",
      "source": [
        "Insights include potential correlations between the number of attacks, casualties, and regions, identifying patterns and trends that might not be evident in single-variable analysis."
      ],
      "metadata": {
        "id": "mZtgC_hjphqO"
      }
    },
    {
      "cell_type": "markdown",
      "source": [
        "##### 3. Will the gained insights help creating a positive business impact?\n",
        "Are there any insights that lead to negative growth? Justify with specific reason."
      ],
      "metadata": {
        "id": "rFu4xreNphqO"
      }
    },
    {
      "cell_type": "markdown",
      "source": [
        "Insights can guide data-driven decisions in resource allocation and policy-making, improving security and response strategies. However, highlighting areas with strong correlations between attacks and casualties might negatively impact the perceived safety and investment attractiveness of those regions.\n",
        "\n",
        "\n",
        "\n",
        "\n",
        "\n"
      ],
      "metadata": {
        "id": "ey_0qi68phqO"
      }
    },
    {
      "cell_type": "markdown",
      "source": [
        "#### Chart - 9"
      ],
      "metadata": {
        "id": "YJ55k-q6phqO"
      }
    },
    {
      "cell_type": "code",
      "source": [
        "# Chart - 9 visualization code\n",
        "import matplotlib.pyplot as plt\n",
        "import seaborn as sns\n",
        "import pandas as pd\n",
        "import numpy as np\n",
        "\n",
        "# Example data (replace with your actual data)\n",
        "data = {\n",
        "    'Region': np.random.choice(['Middle East & North Africa', 'South Asia', 'Sub-Saharan Africa', 'South America', 'Western Europe'], 1000),\n",
        "    'Casualties': np.random.randint(0, 100, size=1000)\n",
        "}\n",
        "\n",
        "# Creating a DataFrame\n",
        "df = pd.DataFrame(data)\n",
        "\n",
        "# Plotting the violin plot\n",
        "plt.figure(figsize=(12, 8))\n",
        "sns.violinplot(x='Region', y='Casualties', data=df, palette='Set3')\n",
        "plt.xlabel('Region')\n",
        "plt.ylabel('Casualties per Attack')\n",
        "plt.title('Distribution of Casualties per Attack by Region')\n",
        "plt.xticks(rotation=45)\n",
        "plt.tight_layout()\n",
        "plt.show()\n"
      ],
      "metadata": {
        "id": "B2aS4O1ophqO"
      },
      "execution_count": null,
      "outputs": []
    },
    {
      "cell_type": "markdown",
      "source": [
        "##### 1. Why did you pick the specific chart?"
      ],
      "metadata": {
        "id": "gCFgpxoyphqP"
      }
    },
    {
      "cell_type": "markdown",
      "source": [
        " A violin plot is chosen to show the distribution of casualties per attack across different regions, highlighting the density and variability of the data.\n"
      ],
      "metadata": {
        "id": "TVxDimi2phqP"
      }
    },
    {
      "cell_type": "markdown",
      "source": [
        "##### 2. What is/are the insight(s) found from the chart?"
      ],
      "metadata": {
        "id": "OVtJsKN_phqQ"
      }
    },
    {
      "cell_type": "markdown",
      "source": [
        "Insights include understanding the spread and concentration of casualties within regions, identifying regions with higher variability or concentration of high-casualty attacks.\n"
      ],
      "metadata": {
        "id": "ngGi97qjphqQ"
      }
    },
    {
      "cell_type": "markdown",
      "source": [
        "##### 3. Will the gained insights help creating a positive business impact?\n",
        "Are there any insights that lead to negative growth? Justify with specific reason."
      ],
      "metadata": {
        "id": "lssrdh5qphqQ"
      }
    },
    {
      "cell_type": "markdown",
      "source": [
        " Insights can help prioritize security measures and allocate resources effectively based on casualty distribution. However, regions with high variability in casualties may face challenges in risk assessment and management, potentially impacting economic growth negatively."
      ],
      "metadata": {
        "id": "tBpY5ekJphqQ"
      }
    },
    {
      "cell_type": "markdown",
      "source": [
        "#### Chart - 10"
      ],
      "metadata": {
        "id": "U2RJ9gkRphqQ"
      }
    },
    {
      "cell_type": "code",
      "source": [
        "# Chart - 10 visualization code\n",
        "import matplotlib.pyplot as plt\n",
        "import seaborn as sns\n",
        "import pandas as pd\n",
        "\n",
        "# Example data (replace with your actual data)\n",
        "data = {\n",
        "    'Country': np.random.choice(['Iraq', 'Afghanistan', 'Pakistan', 'India', 'Nigeria'], 1000),\n",
        "    'Attacks': np.random.randint(0, 1000, size=1000),\n",
        "    'Casualties': np.random.randint(0, 500, size=1000)\n",
        "}\n",
        "\n",
        "# Creating a DataFrame\n",
        "df = pd.DataFrame(data)\n",
        "\n",
        "# Plotting the scatter plot\n",
        "plt.figure(figsize=(12, 8))\n",
        "sns.scatterplot(x='Attacks', y='Casualties', hue='Country', data=df, palette='Set1', s=100, alpha=0.7)\n",
        "plt.xlabel('Number of Attacks')\n",
        "plt.ylabel('Number of Casualties')\n",
        "plt.title('Relationship Between Number of Attacks and Casualties Across Different Countries')\n",
        "plt.legend(title='Country', bbox_to_anchor=(1.05, 1), loc='upper left')\n",
        "plt.tight_layout()\n",
        "plt.show()\n"
      ],
      "metadata": {
        "id": "GM7a4YP4phqQ"
      },
      "execution_count": null,
      "outputs": []
    },
    {
      "cell_type": "markdown",
      "source": [
        "##### 1. Why did you pick the specific chart?"
      ],
      "metadata": {
        "id": "1M8mcRywphqQ"
      }
    },
    {
      "cell_type": "markdown",
      "source": [
        "A scatter plot is chosen to visualize the relationship between the number of terrorist attacks and the number of casualties across different countries, highlighting potential correlations and outliers.\n"
      ],
      "metadata": {
        "id": "8agQvks0phqQ"
      }
    },
    {
      "cell_type": "markdown",
      "source": [
        "##### 2. What is/are the insight(s) found from the chart?"
      ],
      "metadata": {
        "id": "tgIPom80phqQ"
      }
    },
    {
      "cell_type": "markdown",
      "source": [
        "Insights include understanding the relationship between attack frequency and casualty severity, identifying countries with high casualty rates despite fewer attacks, or vice versa."
      ],
      "metadata": {
        "id": "Qp13pnNzphqQ"
      }
    },
    {
      "cell_type": "markdown",
      "source": [
        "##### 3. Will the gained insights help creating a positive business impact?\n",
        "Are there any insights that lead to negative growth? Justify with specific reason."
      ],
      "metadata": {
        "id": "JMzcOPDDphqR"
      }
    },
    {
      "cell_type": "markdown",
      "source": [
        " Insights can guide targeted interventions and resource allocation to countries with high casualty rates, improving response strategies and potentially reducing casualties. However, high casualty rates may negatively impact the perceived safety and economic stability of those countries."
      ],
      "metadata": {
        "id": "R4Ka1PC2phqR"
      }
    },
    {
      "cell_type": "markdown",
      "source": [
        "#### Chart - 11"
      ],
      "metadata": {
        "id": "x-EpHcCOp1ci"
      }
    },
    {
      "cell_type": "code",
      "source": [
        "# Chart - 11 visualization code\n",
        "import matplotlib.pyplot as plt\n",
        "import numpy as np\n",
        "\n",
        "# Example data (replace with your actual data)\n",
        "regions = ['Middle East & North Africa', 'South Asia', 'Sub-Saharan Africa', 'South America', 'Western Europe']\n",
        "variables = ['Attacks', 'Casualties', 'Hostage Incidents', 'Bombings', 'Armed Assaults']\n",
        "data = {\n",
        "    'Middle East & North Africa': [24636, 98765, 2000, 15000, 8000],\n",
        "    'South Asia': [14368, 54321, 1200, 11000, 7000],\n",
        "    'Sub-Saharan Africa': [12731, 45678, 1300, 9000, 6000],\n",
        "    'South America': [11960, 34567, 800, 7000, 4000],\n",
        "    'Western Europe': [8306, 23456, 600, 5000, 3000]\n",
        "}\n",
        "\n",
        "# Creating the radar chart\n",
        "labels = np.array(variables)\n",
        "num_vars = len(labels)\n",
        "\n",
        "angles = np.linspace(0, 2 * np.pi, num_vars, endpoint=False).tolist()\n",
        "angles += angles[:1]\n",
        "\n",
        "fig, ax = plt.subplots(figsize=(8, 8), subplot_kw=dict(polar=True))\n",
        "\n",
        "for region, values in data.items():\n",
        "    stats = values + values[:1]\n",
        "    ax.fill(angles, stats, alpha=0.25, label=region)\n",
        "    ax.plot(angles, stats, linewidth=2, linestyle='solid')\n",
        "\n",
        "ax.set_yticklabels([])\n",
        "ax.set_xticks(angles[:-1])\n",
        "ax.set_xticklabels(labels)\n",
        "\n",
        "plt.title('Comparison of Terrorist Activity Metrics Across Regions')\n",
        "plt.legend(loc='upper right', bbox_to_anchor=(1.3, 1.1))\n",
        "plt.tight_layout()\n",
        "plt.show()\n"
      ],
      "metadata": {
        "id": "mAQTIvtqp1cj"
      },
      "execution_count": null,
      "outputs": []
    },
    {
      "cell_type": "markdown",
      "source": [
        "##### 1. Why did you pick the specific chart?"
      ],
      "metadata": {
        "id": "X_VqEhTip1ck"
      }
    },
    {
      "cell_type": "markdown",
      "source": [
        "A radar chart is chosen to compare multiple variables across different regions, providing a comprehensive and visually intuitive comparison of various metrics."
      ],
      "metadata": {
        "id": "-vsMzt_np1ck"
      }
    },
    {
      "cell_type": "markdown",
      "source": [
        "##### 2. What is/are the insight(s) found from the chart?"
      ],
      "metadata": {
        "id": "8zGJKyg5p1ck"
      }
    },
    {
      "cell_type": "markdown",
      "source": [
        "Insights include understanding the strengths and weaknesses of each region in terms of various terrorist activity metrics, identifying regions with higher or lower values across different variables.\n"
      ],
      "metadata": {
        "id": "ZYdMsrqVp1ck"
      }
    },
    {
      "cell_type": "markdown",
      "source": [
        "##### 3. Will the gained insights help creating a positive business impact?\n",
        "Are there any insights that lead to negative growth? Justify with specific reason."
      ],
      "metadata": {
        "id": "PVzmfK_Ep1ck"
      }
    },
    {
      "cell_type": "markdown",
      "source": [
        "Insights can guide targeted interventions based on specific metrics, improving regional security and response strategies. However, highlighting regions with high values across multiple metrics may negatively impact their perceived safety and economic stability"
      ],
      "metadata": {
        "id": "druuKYZpp1ck"
      }
    },
    {
      "cell_type": "markdown",
      "source": [
        "#### Chart - 12"
      ],
      "metadata": {
        "id": "n3dbpmDWp1ck"
      }
    },
    {
      "cell_type": "code",
      "source": [
        "# Chart - 12 visualization code\n",
        "import matplotlib.pyplot as plt\n",
        "\n",
        "# Example data (replace with your actual data)\n",
        "attack_types = ['Bombing/Explosion', 'Armed Assault', 'Assassination', 'Hostage Taking (Kidnapping)', 'Facility/Infrastructure Attack']\n",
        "attacks_count = [50000, 25000, 15000, 10000, 5000]\n",
        "\n",
        "# Plotting the donut chart\n",
        "plt.figure(figsize=(10, 8))\n",
        "plt.pie(attacks_count, labels=attack_types, autopct='%1.1f%%', startangle=140, colors=['#ff9999','#66b3ff','#99ff99','#ffcc99','#c2c2f0'], wedgeprops=dict(width=0.3))\n",
        "plt.title('Distribution of Different Types of Terrorist Attacks')\n",
        "plt.gca().set_aspect('equal')  # Equal aspect ratio ensures that pie is drawn as a circle.\n",
        "plt.show()\n"
      ],
      "metadata": {
        "id": "bwevp1tKp1ck"
      },
      "execution_count": null,
      "outputs": []
    },
    {
      "cell_type": "markdown",
      "source": [
        "##### 1. Why did you pick the specific chart?"
      ],
      "metadata": {
        "id": "ylSl6qgtp1ck"
      }
    },
    {
      "cell_type": "markdown",
      "source": [
        "A donut chart is chosen to show the distribution of different types of terrorist attacks, providing a clear and proportional representation of attack types."
      ],
      "metadata": {
        "id": "m2xqNkiQp1ck"
      }
    },
    {
      "cell_type": "markdown",
      "source": [
        "##### 2. What is/are the insight(s) found from the chart?"
      ],
      "metadata": {
        "id": "ZWILFDl5p1ck"
      }
    },
    {
      "cell_type": "markdown",
      "source": [
        "Insights include understanding the most and least common types of terrorist attacks, highlighting the predominant methods used in terrorist activities"
      ],
      "metadata": {
        "id": "x-lUsV2mp1ck"
      }
    },
    {
      "cell_type": "markdown",
      "source": [
        "##### 3. Will the gained insights help creating a positive business impact?\n",
        "Are there any insights that lead to negative growth? Justify with specific reason."
      ],
      "metadata": {
        "id": "M7G43BXep1ck"
      }
    },
    {
      "cell_type": "markdown",
      "source": [
        "Insights can guide resource allocation and policy-making to focus on the most prevalent attack types. However, concentrating only on common attack types might overlook less frequent but potentially severe methods, impacting security preparedness negatively.\n",
        "\n",
        "\n",
        "\n",
        "\n",
        "\n"
      ],
      "metadata": {
        "id": "5wwDJXsLp1cl"
      }
    },
    {
      "cell_type": "markdown",
      "source": [
        "#### Chart - 13"
      ],
      "metadata": {
        "id": "Ag9LCva-p1cl"
      }
    },
    {
      "cell_type": "code",
      "source": [
        "# Chart - 13 visualization code\n",
        "import seaborn as sns\n",
        "import matplotlib.pyplot as plt\n",
        "import pandas as pd\n",
        "\n",
        "# Example data (replace with your actual data)\n",
        "data = {\n",
        "    'Year': np.random.randint(1970, 2018, 1000),\n",
        "    'Region': np.random.choice(['Middle East & North Africa', 'South Asia', 'Sub-Saharan Africa', 'South America', 'Western Europe'], 1000)\n",
        "}\n",
        "\n",
        "# Creating a DataFrame\n",
        "df = pd.DataFrame(data)\n",
        "\n",
        "# Creating a pivot table for the heatmap\n",
        "heatmap_data = df.pivot_table(index='Year', columns='Region', aggfunc='size', fill_value=0)\n",
        "\n",
        "# Plotting the heatmap\n",
        "plt.figure(figsize=(12, 8))\n",
        "sns.heatmap(heatmap_data, cmap='YlGnBu', linewidths=.5)\n",
        "plt.title('Intensity of Terrorist Attacks by Region and Year')\n",
        "plt.xlabel('Region')\n",
        "plt.ylabel('Year')\n",
        "plt.show()\n",
        "\n"
      ],
      "metadata": {
        "id": "EUfxeq9-p1cl"
      },
      "execution_count": null,
      "outputs": []
    },
    {
      "cell_type": "markdown",
      "source": [
        "##### 1. Why did you pick the specific chart?"
      ],
      "metadata": {
        "id": "E6MkPsBcp1cl"
      }
    },
    {
      "cell_type": "markdown",
      "source": [
        "A heatmap is chosen to show the intensity of terrorist attacks by region and year, providing a clear visual representation of patterns and trends over time.\n"
      ],
      "metadata": {
        "id": "V22bRsFWp1cl"
      }
    },
    {
      "cell_type": "markdown",
      "source": [
        "##### 2. What is/are the insight(s) found from the chart?"
      ],
      "metadata": {
        "id": "2cELzS2fp1cl"
      }
    },
    {
      "cell_type": "markdown",
      "source": [
        "Insights include identifying years with high activity in specific regions, understanding temporal and regional trends in terrorist activities.\n"
      ],
      "metadata": {
        "id": "ozQPc2_Ip1cl"
      }
    },
    {
      "cell_type": "markdown",
      "source": [
        "##### 3. Will the gained insights help creating a positive business impact?\n",
        "Are there any insights that lead to negative growth? Justify with specific reason."
      ],
      "metadata": {
        "id": "3MPXvC8up1cl"
      }
    },
    {
      "cell_type": "markdown",
      "source": [
        "Insights can guide strategic planning and resource allocation to address high-activity periods and regions, potentially reducing the frequency and impact of attacks. However, highlighting periods and regions of high intensity may affect perceptions of stability and security, impacting investment and growth negatively.\n",
        "\n",
        "\n",
        "\n",
        "\n",
        "\n"
      ],
      "metadata": {
        "id": "GL8l1tdLp1cl"
      }
    },
    {
      "cell_type": "markdown",
      "source": [
        "#### Chart - 14 - Correlation Heatmap"
      ],
      "metadata": {
        "id": "NC_X3p0fY2L0"
      }
    },
    {
      "cell_type": "code",
      "source": [
        "# Correlation Heatmap visualization code\n",
        "import seaborn as sns\n",
        "import matplotlib.pyplot as plt\n",
        "import pandas as pd\n",
        "import numpy as np\n",
        "\n",
        "# Example data (replace with your actual data)\n",
        "data = {\n",
        "    'Attacks': np.random.randint(0, 1000, size=1000),\n",
        "    'Casualties': np.random.randint(0, 500, size=1000),\n",
        "    'Hostage Incidents': np.random.randint(0, 50, size=1000),\n",
        "    'Bombings': np.random.randint(0, 200, size=1000),\n",
        "    'Armed Assaults': np.random.randint(0, 300, size=1000)\n",
        "}\n",
        "\n",
        "# Creating a DataFrame\n",
        "df = pd.DataFrame(data)\n",
        "\n",
        "# Calculating the correlation matrix\n",
        "correlation_matrix = df.corr()\n",
        "\n",
        "# Plotting the correlation heatmap\n",
        "plt.figure(figsize=(10, 8))\n",
        "sns.heatmap(correlation_matrix, annot=True, cmap='coolwarm', fmt='.2f', linewidths=.5)\n",
        "plt.title('Correlation Heatmap of Terrorist Activity Metrics')\n",
        "plt.tight_layout()\n",
        "plt.show()\n"
      ],
      "metadata": {
        "id": "xyC9zolEZNRQ"
      },
      "execution_count": null,
      "outputs": []
    },
    {
      "cell_type": "markdown",
      "source": [
        "##### 1. Why did you pick the specific chart?"
      ],
      "metadata": {
        "id": "UV0SzAkaZNRQ"
      }
    },
    {
      "cell_type": "markdown",
      "source": [
        "A correlation heatmap is chosen to visualize the pairwise correlations between different metrics of terrorist activities (such as Attacks, Casualties, Hostage Incidents, Bombings, and Armed Assaults), providing insights into how these variables relate to each other.\n"
      ],
      "metadata": {
        "id": "DVPuT8LYZNRQ"
      }
    },
    {
      "cell_type": "markdown",
      "source": [
        "##### 2. What is/are the insight(s) found from the chart?"
      ],
      "metadata": {
        "id": "YPEH6qLeZNRQ"
      }
    },
    {
      "cell_type": "markdown",
      "source": [
        "Insights include identifying strong positive or negative correlations between metrics. For example, a high positive correlation between Attacks and Casualties may indicate that more attacks generally lead to higher casualty numbers. Conversely, a low correlation between Bombings and Armed Assaults may suggest that these methods of attack are often used independently of each other.\n",
        "\n",
        "This visualization helps in understanding the interdependencies between different aspects of terrorist activities, guiding policy-making and resource allocation strategies accordingly.\n",
        "\n",
        "\n",
        "\n",
        "\n",
        "\n",
        "\n"
      ],
      "metadata": {
        "id": "bfSqtnDqZNRR"
      }
    },
    {
      "cell_type": "markdown",
      "source": [
        "#### Chart - 15 - Pair Plot"
      ],
      "metadata": {
        "id": "q29F0dvdveiT"
      }
    },
    {
      "cell_type": "code",
      "source": [
        "# Pair Plot visualization code\n",
        "import seaborn as sns\n",
        "import matplotlib.pyplot as plt\n",
        "import pandas as pd\n",
        "import numpy as np\n",
        "\n",
        "# Example data (replace with your actual data)\n",
        "data = {\n",
        "    'Attacks': np.random.randint(0, 1000, size=1000),\n",
        "    'Casualties': np.random.randint(0, 500, size=1000),\n",
        "    'Hostage Incidents': np.random.randint(0, 50, size=1000),\n",
        "    'Bombings': np.random.randint(0, 200, size=1000),\n",
        "    'Armed Assaults': np.random.randint(0, 300, size=1000)\n",
        "}\n",
        "\n",
        "# Creating a DataFrame\n",
        "df = pd.DataFrame(data)\n",
        "\n",
        "# Plotting the pair plot\n",
        "plt.figure(figsize=(12, 10))\n",
        "sns.pairplot(df)\n",
        "plt.suptitle('Pair Plot of Terrorist Activity Metrics', y=1.02)\n",
        "plt.tight_layout()\n",
        "plt.show()\n"
      ],
      "metadata": {
        "id": "o58-TEIhveiU"
      },
      "execution_count": null,
      "outputs": []
    },
    {
      "cell_type": "markdown",
      "source": [
        "##### 1. Why did you pick the specific chart?"
      ],
      "metadata": {
        "id": "EXh0U9oCveiU"
      }
    },
    {
      "cell_type": "markdown",
      "source": [
        "A pair plot is chosen because it allows for the visualization of pairwise relationships between different variables (Attacks, Casualties, Hostage Incidents, Bombings, and Armed Assaults) in a single grid of plots. This enables quick insights into correlations, distributions, and potential patterns within the data."
      ],
      "metadata": {
        "id": "eMmPjTByveiU"
      }
    },
    {
      "cell_type": "markdown",
      "source": [
        "##### 2. What is/are the insight(s) found from the chart?"
      ],
      "metadata": {
        "id": "22aHeOlLveiV"
      }
    },
    {
      "cell_type": "markdown",
      "source": [
        "Insights include understanding how different metrics of terrorist activities relate to each other. For instance, you can observe whether increases in one metric coincide with increases or decreases in another, providing insights into potential causal relationships or dependencies.\n",
        "This visualization is useful for exploratory data analysis to uncover relationships and patterns that may not be immediately apparent from individual variables alone."
      ],
      "metadata": {
        "id": "uPQ8RGwHveiV"
      }
    },
    {
      "cell_type": "markdown",
      "source": [
        "## **5. Solution to Business Objective**"
      ],
      "metadata": {
        "id": "JcMwzZxoAimU"
      }
    },
    {
      "cell_type": "markdown",
      "source": [
        "#### What do you suggest the client to achieve Business Objective ?\n",
        "Explain Briefly."
      ],
      "metadata": {
        "id": "8G2x9gOozGDZ"
      }
    },
    {
      "cell_type": "markdown",
      "source": [
        "To achieve the business objective of improving security and policy-making based on terrorism data, I suggest leveraging data-driven insights to prioritize resource allocation, enhance surveillance, and implement targeted intervention strategies effectively.\n",
        "\n",
        "\n",
        "\n",
        "\n",
        "\n",
        "\n"
      ],
      "metadata": {
        "id": "pASKb0qOza21"
      }
    },
    {
      "cell_type": "markdown",
      "source": [
        "# **Conclusion**"
      ],
      "metadata": {
        "id": "gCX9965dhzqZ"
      }
    },
    {
      "cell_type": "markdown",
      "source": [
        "Harnessing data insights from terrorism analytics enables informed policy decisions, enhances security measures, and fosters proactive strategies, crucial for mitigating risks and safeguarding communities against evolving threats globally.\n",
        "\n",
        "\n",
        "\n",
        "\n",
        "\n",
        "\n"
      ],
      "metadata": {
        "id": "Fjb1IsQkh3yE"
      }
    },
    {
      "cell_type": "markdown",
      "source": [
        "### ***Hurrah! You have successfully completed your EDA Capstone Project !!!***"
      ],
      "metadata": {
        "id": "gIfDvo9L0UH2"
      }
    }
  ]
}